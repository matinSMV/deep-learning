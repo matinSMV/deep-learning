{
  "nbformat": 4,
  "nbformat_minor": 0,
  "metadata": {
    "colab": {
      "provenance": [],
      "gpuType": "T4"
    },
    "kernelspec": {
      "name": "python3",
      "display_name": "Python 3"
    },
    "language_info": {
      "name": "python"
    },
    "accelerator": "GPU"
  },
  "cells": [
    {
      "cell_type": "code",
      "execution_count": 10,
      "metadata": {
        "id": "uB3nOjwsEDZJ"
      },
      "outputs": [],
      "source": [
        "import tensorflow as tf"
      ]
    },
    {
      "cell_type": "markdown",
      "source": [
        "##load data"
      ],
      "metadata": {
        "id": "oG5MjZQXE7qj"
      }
    },
    {
      "cell_type": "code",
      "source": [
        "cifar100 = tf.keras.datasets.cifar100\n",
        "\n",
        "(x_train, y_train),(x_test, y_test) = cifar100.load_data()\n",
        "\n",
        "x_train = x_train / 255.0\n",
        "x_test = x_test / 255.0"
      ],
      "metadata": {
        "id": "my6GXzowE-CF"
      },
      "execution_count": 11,
      "outputs": []
    },
    {
      "cell_type": "markdown",
      "source": [
        "## modeling"
      ],
      "metadata": {
        "id": "nMXK5HlpFE3N"
      }
    },
    {
      "cell_type": "code",
      "source": [
        "model = tf.keras.models.Sequential([\n",
        "  tf.keras.layers.Flatten(input_shape=(32, 32, 3)),\n",
        "  tf.keras.layers.Dense(128, activation='relu'),\n",
        "  tf.keras.layers.Dense(64, activation='relu'),\n",
        "  tf.keras.layers.Dropout(0.2),\n",
        "  tf.keras.layers.Dense(100, activation='softmax')\n",
        "])\n",
        "\n",
        "model.compile(optimizer='Adam',\n",
        "              loss='sparse_categorical_crossentropy',\n",
        "              metrics=['accuracy'])\n",
        "\n",
        "model.fit(x_train, y_train, epochs=50)"
      ],
      "metadata": {
        "colab": {
          "base_uri": "https://localhost:8080/"
        },
        "id": "6bte3eJBFH2l",
        "outputId": "ca25d14d-c219-48e5-ee74-a616b527423e"
      },
      "execution_count": 12,
      "outputs": [
        {
          "output_type": "stream",
          "name": "stdout",
          "text": [
            "Epoch 1/50\n",
            "1563/1563 [==============================] - 6s 3ms/step - loss: 4.2219 - accuracy: 0.0514\n",
            "Epoch 2/50\n",
            "1563/1563 [==============================] - 5s 3ms/step - loss: 3.9443 - accuracy: 0.0921\n",
            "Epoch 3/50\n",
            "1563/1563 [==============================] - 5s 3ms/step - loss: 3.8306 - accuracy: 0.1113\n",
            "Epoch 4/50\n",
            "1563/1563 [==============================] - 5s 3ms/step - loss: 3.7746 - accuracy: 0.1205\n",
            "Epoch 5/50\n",
            "1563/1563 [==============================] - 5s 3ms/step - loss: 3.7352 - accuracy: 0.1297\n",
            "Epoch 6/50\n",
            "1563/1563 [==============================] - 5s 3ms/step - loss: 3.6989 - accuracy: 0.1325\n",
            "Epoch 7/50\n",
            "1563/1563 [==============================] - 5s 3ms/step - loss: 3.6773 - accuracy: 0.1366\n",
            "Epoch 8/50\n",
            "1563/1563 [==============================] - 5s 3ms/step - loss: 3.6652 - accuracy: 0.1394\n",
            "Epoch 9/50\n",
            "1563/1563 [==============================] - 6s 4ms/step - loss: 3.6450 - accuracy: 0.1418\n",
            "Epoch 10/50\n",
            "1563/1563 [==============================] - 5s 3ms/step - loss: 3.6325 - accuracy: 0.1448\n",
            "Epoch 11/50\n",
            "1563/1563 [==============================] - 5s 3ms/step - loss: 3.6192 - accuracy: 0.1458\n",
            "Epoch 12/50\n",
            "1563/1563 [==============================] - 5s 3ms/step - loss: 3.6042 - accuracy: 0.1489\n",
            "Epoch 13/50\n",
            "1563/1563 [==============================] - 5s 3ms/step - loss: 3.5991 - accuracy: 0.1504\n",
            "Epoch 14/50\n",
            "1563/1563 [==============================] - 5s 3ms/step - loss: 3.5913 - accuracy: 0.1494\n",
            "Epoch 15/50\n",
            "1563/1563 [==============================] - 5s 3ms/step - loss: 3.5688 - accuracy: 0.1532\n",
            "Epoch 16/50\n",
            "1563/1563 [==============================] - 5s 3ms/step - loss: 3.5653 - accuracy: 0.1554\n",
            "Epoch 17/50\n",
            "1563/1563 [==============================] - 5s 3ms/step - loss: 3.5569 - accuracy: 0.1548\n",
            "Epoch 18/50\n",
            "1563/1563 [==============================] - 5s 3ms/step - loss: 3.5502 - accuracy: 0.1546\n",
            "Epoch 19/50\n",
            "1563/1563 [==============================] - 5s 3ms/step - loss: 3.5404 - accuracy: 0.1590\n",
            "Epoch 20/50\n",
            "1563/1563 [==============================] - 4s 3ms/step - loss: 3.5369 - accuracy: 0.1579\n",
            "Epoch 21/50\n",
            "1563/1563 [==============================] - 5s 3ms/step - loss: 3.5273 - accuracy: 0.1595\n",
            "Epoch 22/50\n",
            "1563/1563 [==============================] - 5s 3ms/step - loss: 3.5251 - accuracy: 0.1600\n",
            "Epoch 23/50\n",
            "1563/1563 [==============================] - 5s 3ms/step - loss: 3.5198 - accuracy: 0.1599\n",
            "Epoch 24/50\n",
            "1563/1563 [==============================] - 5s 3ms/step - loss: 3.5178 - accuracy: 0.1619\n",
            "Epoch 25/50\n",
            "1563/1563 [==============================] - 5s 3ms/step - loss: 3.5120 - accuracy: 0.1603\n",
            "Epoch 26/50\n",
            "1563/1563 [==============================] - 5s 3ms/step - loss: 3.5057 - accuracy: 0.1614\n",
            "Epoch 27/50\n",
            "1563/1563 [==============================] - 5s 3ms/step - loss: 3.4989 - accuracy: 0.1626\n",
            "Epoch 28/50\n",
            "1563/1563 [==============================] - 5s 3ms/step - loss: 3.5035 - accuracy: 0.1624\n",
            "Epoch 29/50\n",
            "1563/1563 [==============================] - 5s 3ms/step - loss: 3.4979 - accuracy: 0.1617\n",
            "Epoch 30/50\n",
            "1563/1563 [==============================] - 5s 3ms/step - loss: 3.4909 - accuracy: 0.1636\n",
            "Epoch 31/50\n",
            "1563/1563 [==============================] - 5s 3ms/step - loss: 3.4912 - accuracy: 0.1653\n",
            "Epoch 32/50\n",
            "1563/1563 [==============================] - 5s 3ms/step - loss: 3.4932 - accuracy: 0.1638\n",
            "Epoch 33/50\n",
            "1563/1563 [==============================] - 5s 3ms/step - loss: 3.4851 - accuracy: 0.1660\n",
            "Epoch 34/50\n",
            "1563/1563 [==============================] - 5s 3ms/step - loss: 3.4827 - accuracy: 0.1656\n",
            "Epoch 35/50\n",
            "1563/1563 [==============================] - 5s 3ms/step - loss: 3.4846 - accuracy: 0.1665\n",
            "Epoch 36/50\n",
            "1563/1563 [==============================] - 5s 3ms/step - loss: 3.4768 - accuracy: 0.1683\n",
            "Epoch 37/50\n",
            "1563/1563 [==============================] - 5s 3ms/step - loss: 3.4753 - accuracy: 0.1667\n",
            "Epoch 38/50\n",
            "1563/1563 [==============================] - 5s 3ms/step - loss: 3.4716 - accuracy: 0.1686\n",
            "Epoch 39/50\n",
            "1563/1563 [==============================] - 5s 3ms/step - loss: 3.4740 - accuracy: 0.1665\n",
            "Epoch 40/50\n",
            "1563/1563 [==============================] - 5s 3ms/step - loss: 3.4749 - accuracy: 0.1669\n",
            "Epoch 41/50\n",
            "1563/1563 [==============================] - 5s 3ms/step - loss: 3.4737 - accuracy: 0.1666\n",
            "Epoch 42/50\n",
            "1563/1563 [==============================] - 5s 3ms/step - loss: 3.4666 - accuracy: 0.1665\n",
            "Epoch 43/50\n",
            "1563/1563 [==============================] - 5s 3ms/step - loss: 3.4650 - accuracy: 0.1673\n",
            "Epoch 44/50\n",
            "1563/1563 [==============================] - 5s 3ms/step - loss: 3.4661 - accuracy: 0.1686\n",
            "Epoch 45/50\n",
            "1563/1563 [==============================] - 5s 3ms/step - loss: 3.4681 - accuracy: 0.1665\n",
            "Epoch 46/50\n",
            "1563/1563 [==============================] - 5s 3ms/step - loss: 3.4628 - accuracy: 0.1671\n",
            "Epoch 47/50\n",
            "1563/1563 [==============================] - 5s 3ms/step - loss: 3.4642 - accuracy: 0.1695\n",
            "Epoch 48/50\n",
            "1563/1563 [==============================] - 5s 3ms/step - loss: 3.4549 - accuracy: 0.1704\n",
            "Epoch 49/50\n",
            "1563/1563 [==============================] - 5s 3ms/step - loss: 3.4603 - accuracy: 0.1680\n",
            "Epoch 50/50\n",
            "1563/1563 [==============================] - 5s 3ms/step - loss: 3.4579 - accuracy: 0.1700\n"
          ]
        },
        {
          "output_type": "execute_result",
          "data": {
            "text/plain": [
              "<keras.callbacks.History at 0x7b0ee009c250>"
            ]
          },
          "metadata": {},
          "execution_count": 12
        }
      ]
    },
    {
      "cell_type": "code",
      "source": [
        "model.evaluate(x_test, y_test)"
      ],
      "metadata": {
        "colab": {
          "base_uri": "https://localhost:8080/"
        },
        "id": "zPB-X7goFLnx",
        "outputId": "607575cc-4860-4255-855b-b4bee93bb5c0"
      },
      "execution_count": 13,
      "outputs": [
        {
          "output_type": "stream",
          "name": "stdout",
          "text": [
            "313/313 [==============================] - 1s 3ms/step - loss: 3.4659 - accuracy: 0.1801\n"
          ]
        },
        {
          "output_type": "execute_result",
          "data": {
            "text/plain": [
              "[3.465904712677002, 0.1800999939441681]"
            ]
          },
          "metadata": {},
          "execution_count": 13
        }
      ]
    }
  ]
}