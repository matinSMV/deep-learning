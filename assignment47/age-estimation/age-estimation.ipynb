{
  "cells": [
    {
      "cell_type": "code",
      "execution_count": null,
      "metadata": {
        "id": "Iol-SZQFBEQz"
      },
      "outputs": [],
      "source": [
        "# !mkdir ~/.kaggle\n",
        "# !mv kaggle.json ~/.kaggle\n",
        "# !ls -a ~/.kaggle"
      ]
    },
    {
      "cell_type": "code",
      "execution_count": null,
      "metadata": {
        "id": "BsFtFhdYBMcM"
      },
      "outputs": [],
      "source": [
        "# !kaggle datasets download -d jangedoo/utkface-new\n",
        "# !unzip utkface-new.zip"
      ]
    },
    {
      "cell_type": "code",
      "execution_count": 1,
      "metadata": {
        "id": "Walsug9NBa-9"
      },
      "outputs": [],
      "source": [
        "import os\n",
        "import pandas as pd\n",
        "import numpy as np\n",
        "import matplotlib.pyplot as plt\n",
        "import cv2\n",
        "import tensorflow as tf\n",
        "from tensorflow.keras.layers import Conv2D,MaxPooling2D,Dropout,Flatten,Dense\n",
        "from tensorflow.keras.optimizers import Adam\n",
        "from tensorflow.keras.preprocessing.image import ImageDataGenerator\n",
        "from sklearn.model_selection import train_test_split"
      ]
    },
    {
      "cell_type": "markdown",
      "metadata": {
        "id": "hZQgFes3EDWO"
      },
      "source": [
        "## preprocessing / loading"
      ]
    },
    {
      "cell_type": "code",
      "execution_count": 2,
      "metadata": {
        "id": "wCoNiwTSDXl6"
      },
      "outputs": [],
      "source": [
        "width = height = 224\n",
        "batch_size = 32\n",
        "images = [] #X\n",
        "ages = [] #Y\n",
        "\n",
        "for image_name in os.listdir(\"/content/UTKFace\"):\n",
        "  ages.append(int(image_name.split('_')[0]))\n",
        "\n",
        "  image = cv2.imread(f\"/content/UTKFace/{image_name}\")\n",
        "  image = cv2.cvtColor(image, cv2.COLOR_BGR2RGB)\n",
        "  image = cv2.resize(image,(width,height))\n",
        "  images.append(image)"
      ]
    },
    {
      "cell_type": "code",
      "execution_count": 3,
      "metadata": {
        "colab": {
          "base_uri": "https://localhost:8080/",
          "height": 206
        },
        "id": "qopxtkyRGb4r",
        "outputId": "5be39a40-4180-435a-e2a9-e408c154e371"
      },
      "outputs": [
        {
          "data": {
            "text/html": [
              "\n",
              "  <div id=\"df-7a47e6a7-4c81-4e49-b8b7-79446e1155d8\">\n",
              "    <div class=\"colab-df-container\">\n",
              "      <div>\n",
              "<style scoped>\n",
              "    .dataframe tbody tr th:only-of-type {\n",
              "        vertical-align: middle;\n",
              "    }\n",
              "\n",
              "    .dataframe tbody tr th {\n",
              "        vertical-align: top;\n",
              "    }\n",
              "\n",
              "    .dataframe thead th {\n",
              "        text-align: right;\n",
              "    }\n",
              "</style>\n",
              "<table border=\"1\" class=\"dataframe\">\n",
              "  <thead>\n",
              "    <tr style=\"text-align: right;\">\n",
              "      <th></th>\n",
              "      <th>Images</th>\n",
              "      <th>Ages</th>\n",
              "    </tr>\n",
              "  </thead>\n",
              "  <tbody>\n",
              "    <tr>\n",
              "      <th>0</th>\n",
              "      <td>[[[247, 245, 248], [245, 243, 246], [244, 241,...</td>\n",
              "      <td>26</td>\n",
              "    </tr>\n",
              "    <tr>\n",
              "      <th>1</th>\n",
              "      <td>[[[75, 68, 75], [67, 60, 66], [60, 54, 58], [5...</td>\n",
              "      <td>60</td>\n",
              "    </tr>\n",
              "    <tr>\n",
              "      <th>2</th>\n",
              "      <td>[[[12, 2, 10], [14, 4, 12], [16, 6, 14], [15, ...</td>\n",
              "      <td>5</td>\n",
              "    </tr>\n",
              "    <tr>\n",
              "      <th>3</th>\n",
              "      <td>[[[246, 246, 246], [234, 234, 234], [222, 222,...</td>\n",
              "      <td>7</td>\n",
              "    </tr>\n",
              "    <tr>\n",
              "      <th>4</th>\n",
              "      <td>[[[37, 52, 49], [38, 53, 50], [37, 53, 50], [3...</td>\n",
              "      <td>30</td>\n",
              "    </tr>\n",
              "  </tbody>\n",
              "</table>\n",
              "</div>\n",
              "      <button class=\"colab-df-convert\" onclick=\"convertToInteractive('df-7a47e6a7-4c81-4e49-b8b7-79446e1155d8')\"\n",
              "              title=\"Convert this dataframe to an interactive table.\"\n",
              "              style=\"display:none;\">\n",
              "        \n",
              "  <svg xmlns=\"http://www.w3.org/2000/svg\" height=\"24px\"viewBox=\"0 0 24 24\"\n",
              "       width=\"24px\">\n",
              "    <path d=\"M0 0h24v24H0V0z\" fill=\"none\"/>\n",
              "    <path d=\"M18.56 5.44l.94 2.06.94-2.06 2.06-.94-2.06-.94-.94-2.06-.94 2.06-2.06.94zm-11 1L8.5 8.5l.94-2.06 2.06-.94-2.06-.94L8.5 2.5l-.94 2.06-2.06.94zm10 10l.94 2.06.94-2.06 2.06-.94-2.06-.94-.94-2.06-.94 2.06-2.06.94z\"/><path d=\"M17.41 7.96l-1.37-1.37c-.4-.4-.92-.59-1.43-.59-.52 0-1.04.2-1.43.59L10.3 9.45l-7.72 7.72c-.78.78-.78 2.05 0 2.83L4 21.41c.39.39.9.59 1.41.59.51 0 1.02-.2 1.41-.59l7.78-7.78 2.81-2.81c.8-.78.8-2.07 0-2.86zM5.41 20L4 18.59l7.72-7.72 1.47 1.35L5.41 20z\"/>\n",
              "  </svg>\n",
              "      </button>\n",
              "      \n",
              "  <style>\n",
              "    .colab-df-container {\n",
              "      display:flex;\n",
              "      flex-wrap:wrap;\n",
              "      gap: 12px;\n",
              "    }\n",
              "\n",
              "    .colab-df-convert {\n",
              "      background-color: #E8F0FE;\n",
              "      border: none;\n",
              "      border-radius: 50%;\n",
              "      cursor: pointer;\n",
              "      display: none;\n",
              "      fill: #1967D2;\n",
              "      height: 32px;\n",
              "      padding: 0 0 0 0;\n",
              "      width: 32px;\n",
              "    }\n",
              "\n",
              "    .colab-df-convert:hover {\n",
              "      background-color: #E2EBFA;\n",
              "      box-shadow: 0px 1px 2px rgba(60, 64, 67, 0.3), 0px 1px 3px 1px rgba(60, 64, 67, 0.15);\n",
              "      fill: #174EA6;\n",
              "    }\n",
              "\n",
              "    [theme=dark] .colab-df-convert {\n",
              "      background-color: #3B4455;\n",
              "      fill: #D2E3FC;\n",
              "    }\n",
              "\n",
              "    [theme=dark] .colab-df-convert:hover {\n",
              "      background-color: #434B5C;\n",
              "      box-shadow: 0px 1px 3px 1px rgba(0, 0, 0, 0.15);\n",
              "      filter: drop-shadow(0px 1px 2px rgba(0, 0, 0, 0.3));\n",
              "      fill: #FFFFFF;\n",
              "    }\n",
              "  </style>\n",
              "\n",
              "      <script>\n",
              "        const buttonEl =\n",
              "          document.querySelector('#df-7a47e6a7-4c81-4e49-b8b7-79446e1155d8 button.colab-df-convert');\n",
              "        buttonEl.style.display =\n",
              "          google.colab.kernel.accessAllowed ? 'block' : 'none';\n",
              "\n",
              "        async function convertToInteractive(key) {\n",
              "          const element = document.querySelector('#df-7a47e6a7-4c81-4e49-b8b7-79446e1155d8');\n",
              "          const dataTable =\n",
              "            await google.colab.kernel.invokeFunction('convertToInteractive',\n",
              "                                                     [key], {});\n",
              "          if (!dataTable) return;\n",
              "\n",
              "          const docLinkHtml = 'Like what you see? Visit the ' +\n",
              "            '<a target=\"_blank\" href=https://colab.research.google.com/notebooks/data_table.ipynb>data table notebook</a>'\n",
              "            + ' to learn more about interactive tables.';\n",
              "          element.innerHTML = '';\n",
              "          dataTable['output_type'] = 'display_data';\n",
              "          await google.colab.output.renderOutput(dataTable, element);\n",
              "          const docLink = document.createElement('div');\n",
              "          docLink.innerHTML = docLinkHtml;\n",
              "          element.appendChild(docLink);\n",
              "        }\n",
              "      </script>\n",
              "    </div>\n",
              "  </div>\n",
              "  "
            ],
            "text/plain": [
              "                                              Images  Ages\n",
              "0  [[[247, 245, 248], [245, 243, 246], [244, 241,...    26\n",
              "1  [[[75, 68, 75], [67, 60, 66], [60, 54, 58], [5...    60\n",
              "2  [[[12, 2, 10], [14, 4, 12], [16, 6, 14], [15, ...     5\n",
              "3  [[[246, 246, 246], [234, 234, 234], [222, 222,...     7\n",
              "4  [[[37, 52, 49], [38, 53, 50], [37, 53, 50], [3...    30"
            ]
          },
          "execution_count": 3,
          "metadata": {},
          "output_type": "execute_result"
        }
      ],
      "source": [
        "images = pd.Series(images, name='Images')\n",
        "ages = pd.Series(ages, name = \"Ages\")\n",
        "\n",
        "DataFrame = pd.concat([images,ages], axis=1)\n",
        "DataFrame.head()"
      ]
    },
    {
      "cell_type": "code",
      "execution_count": 4,
      "metadata": {
        "colab": {
          "base_uri": "https://localhost:8080/",
          "height": 424
        },
        "id": "y7bFGzOm-HrP",
        "outputId": "a53ec4a4-13e5-42a3-818d-90093a532388"
      },
      "outputs": [
        {
          "data": {
            "text/html": [
              "\n",
              "  <div id=\"df-35a7331a-d1db-4d06-994b-5b3966bda099\">\n",
              "    <div class=\"colab-df-container\">\n",
              "      <div>\n",
              "<style scoped>\n",
              "    .dataframe tbody tr th:only-of-type {\n",
              "        vertical-align: middle;\n",
              "    }\n",
              "\n",
              "    .dataframe tbody tr th {\n",
              "        vertical-align: top;\n",
              "    }\n",
              "\n",
              "    .dataframe thead th {\n",
              "        text-align: right;\n",
              "    }\n",
              "</style>\n",
              "<table border=\"1\" class=\"dataframe\">\n",
              "  <thead>\n",
              "    <tr style=\"text-align: right;\">\n",
              "      <th></th>\n",
              "      <th>Images</th>\n",
              "      <th>Ages</th>\n",
              "    </tr>\n",
              "  </thead>\n",
              "  <tbody>\n",
              "    <tr>\n",
              "      <th>0</th>\n",
              "      <td>[[[166, 117, 100], [175, 125, 108], [186, 135,...</td>\n",
              "      <td>1</td>\n",
              "    </tr>\n",
              "    <tr>\n",
              "      <th>1</th>\n",
              "      <td>[[[7, 10, 19], [7, 10, 19], [9, 9, 21], [9, 8,...</td>\n",
              "      <td>16</td>\n",
              "    </tr>\n",
              "    <tr>\n",
              "      <th>2</th>\n",
              "      <td>[[[115, 92, 61], [120, 97, 66], [124, 103, 76]...</td>\n",
              "      <td>51</td>\n",
              "    </tr>\n",
              "    <tr>\n",
              "      <th>3</th>\n",
              "      <td>[[[106, 70, 60], [100, 66, 57], [81, 50, 43], ...</td>\n",
              "      <td>2</td>\n",
              "    </tr>\n",
              "    <tr>\n",
              "      <th>4</th>\n",
              "      <td>[[[61, 66, 62], [58, 63, 59], [58, 60, 57], [5...</td>\n",
              "      <td>52</td>\n",
              "    </tr>\n",
              "    <tr>\n",
              "      <th>...</th>\n",
              "      <td>...</td>\n",
              "      <td>...</td>\n",
              "    </tr>\n",
              "    <tr>\n",
              "      <th>11849</th>\n",
              "      <td>[[[94, 95, 87], [92, 93, 85], [91, 92, 84], [8...</td>\n",
              "      <td>42</td>\n",
              "    </tr>\n",
              "    <tr>\n",
              "      <th>11850</th>\n",
              "      <td>[[[234, 193, 147], [233, 192, 146], [232, 191,...</td>\n",
              "      <td>4</td>\n",
              "    </tr>\n",
              "    <tr>\n",
              "      <th>11851</th>\n",
              "      <td>[[[82, 63, 57], [79, 61, 54], [75, 58, 51], [7...</td>\n",
              "      <td>26</td>\n",
              "    </tr>\n",
              "    <tr>\n",
              "      <th>11852</th>\n",
              "      <td>[[[65, 65, 55], [64, 64, 53], [62, 62, 52], [6...</td>\n",
              "      <td>36</td>\n",
              "    </tr>\n",
              "    <tr>\n",
              "      <th>11853</th>\n",
              "      <td>[[[68, 58, 57], [64, 54, 53], [60, 50, 49], [5...</td>\n",
              "      <td>25</td>\n",
              "    </tr>\n",
              "  </tbody>\n",
              "</table>\n",
              "<p>11854 rows × 2 columns</p>\n",
              "</div>\n",
              "      <button class=\"colab-df-convert\" onclick=\"convertToInteractive('df-35a7331a-d1db-4d06-994b-5b3966bda099')\"\n",
              "              title=\"Convert this dataframe to an interactive table.\"\n",
              "              style=\"display:none;\">\n",
              "        \n",
              "  <svg xmlns=\"http://www.w3.org/2000/svg\" height=\"24px\"viewBox=\"0 0 24 24\"\n",
              "       width=\"24px\">\n",
              "    <path d=\"M0 0h24v24H0V0z\" fill=\"none\"/>\n",
              "    <path d=\"M18.56 5.44l.94 2.06.94-2.06 2.06-.94-2.06-.94-.94-2.06-.94 2.06-2.06.94zm-11 1L8.5 8.5l.94-2.06 2.06-.94-2.06-.94L8.5 2.5l-.94 2.06-2.06.94zm10 10l.94 2.06.94-2.06 2.06-.94-2.06-.94-.94-2.06-.94 2.06-2.06.94z\"/><path d=\"M17.41 7.96l-1.37-1.37c-.4-.4-.92-.59-1.43-.59-.52 0-1.04.2-1.43.59L10.3 9.45l-7.72 7.72c-.78.78-.78 2.05 0 2.83L4 21.41c.39.39.9.59 1.41.59.51 0 1.02-.2 1.41-.59l7.78-7.78 2.81-2.81c.8-.78.8-2.07 0-2.86zM5.41 20L4 18.59l7.72-7.72 1.47 1.35L5.41 20z\"/>\n",
              "  </svg>\n",
              "      </button>\n",
              "      \n",
              "  <style>\n",
              "    .colab-df-container {\n",
              "      display:flex;\n",
              "      flex-wrap:wrap;\n",
              "      gap: 12px;\n",
              "    }\n",
              "\n",
              "    .colab-df-convert {\n",
              "      background-color: #E8F0FE;\n",
              "      border: none;\n",
              "      border-radius: 50%;\n",
              "      cursor: pointer;\n",
              "      display: none;\n",
              "      fill: #1967D2;\n",
              "      height: 32px;\n",
              "      padding: 0 0 0 0;\n",
              "      width: 32px;\n",
              "    }\n",
              "\n",
              "    .colab-df-convert:hover {\n",
              "      background-color: #E2EBFA;\n",
              "      box-shadow: 0px 1px 2px rgba(60, 64, 67, 0.3), 0px 1px 3px 1px rgba(60, 64, 67, 0.15);\n",
              "      fill: #174EA6;\n",
              "    }\n",
              "\n",
              "    [theme=dark] .colab-df-convert {\n",
              "      background-color: #3B4455;\n",
              "      fill: #D2E3FC;\n",
              "    }\n",
              "\n",
              "    [theme=dark] .colab-df-convert:hover {\n",
              "      background-color: #434B5C;\n",
              "      box-shadow: 0px 1px 3px 1px rgba(0, 0, 0, 0.15);\n",
              "      filter: drop-shadow(0px 1px 2px rgba(0, 0, 0, 0.3));\n",
              "      fill: #FFFFFF;\n",
              "    }\n",
              "  </style>\n",
              "\n",
              "      <script>\n",
              "        const buttonEl =\n",
              "          document.querySelector('#df-35a7331a-d1db-4d06-994b-5b3966bda099 button.colab-df-convert');\n",
              "        buttonEl.style.display =\n",
              "          google.colab.kernel.accessAllowed ? 'block' : 'none';\n",
              "\n",
              "        async function convertToInteractive(key) {\n",
              "          const element = document.querySelector('#df-35a7331a-d1db-4d06-994b-5b3966bda099');\n",
              "          const dataTable =\n",
              "            await google.colab.kernel.invokeFunction('convertToInteractive',\n",
              "                                                     [key], {});\n",
              "          if (!dataTable) return;\n",
              "\n",
              "          const docLinkHtml = 'Like what you see? Visit the ' +\n",
              "            '<a target=\"_blank\" href=https://colab.research.google.com/notebooks/data_table.ipynb>data table notebook</a>'\n",
              "            + ' to learn more about interactive tables.';\n",
              "          element.innerHTML = '';\n",
              "          dataTable['output_type'] = 'display_data';\n",
              "          await google.colab.output.renderOutput(dataTable, element);\n",
              "          const docLink = document.createElement('div');\n",
              "          docLink.innerHTML = docLinkHtml;\n",
              "          element.appendChild(docLink);\n",
              "        }\n",
              "      </script>\n",
              "    </div>\n",
              "  </div>\n",
              "  "
            ],
            "text/plain": [
              "                                                  Images  Ages\n",
              "0      [[[166, 117, 100], [175, 125, 108], [186, 135,...     1\n",
              "1      [[[7, 10, 19], [7, 10, 19], [9, 9, 21], [9, 8,...    16\n",
              "2      [[[115, 92, 61], [120, 97, 66], [124, 103, 76]...    51\n",
              "3      [[[106, 70, 60], [100, 66, 57], [81, 50, 43], ...     2\n",
              "4      [[[61, 66, 62], [58, 63, 59], [58, 60, 57], [5...    52\n",
              "...                                                  ...   ...\n",
              "11849  [[[94, 95, 87], [92, 93, 85], [91, 92, 84], [8...    42\n",
              "11850  [[[234, 193, 147], [233, 192, 146], [232, 191,...     4\n",
              "11851  [[[82, 63, 57], [79, 61, 54], [75, 58, 51], [7...    26\n",
              "11852  [[[65, 65, 55], [64, 64, 53], [62, 62, 52], [6...    36\n",
              "11853  [[[68, 58, 57], [64, 54, 53], [60, 50, 49], [5...    25\n",
              "\n",
              "[11854 rows x 2 columns]"
            ]
          },
          "execution_count": 4,
          "metadata": {},
          "output_type": "execute_result"
        }
      ],
      "source": [
        "DataFrame = DataFrame.sample(frac = 0.5, ignore_index = True)\n",
        "DataFrame"
      ]
    },
    {
      "cell_type": "code",
      "execution_count": null,
      "metadata": {
        "colab": {
          "base_uri": "https://localhost:8080/",
          "height": 286
        },
        "id": "G1GuhBu9JXAw",
        "outputId": "72c19563-bab4-4aad-9a1e-dfddbe17e7d4"
      },
      "outputs": [],
      "source": [
        "print(DataFrame[\"Ages\"][1])\n",
        "plt.imshow(DataFrame['Images'][1])\n",
        "plt.show()"
      ]
    },
    {
      "cell_type": "code",
      "execution_count": 6,
      "metadata": {
        "colab": {
          "base_uri": "https://localhost:8080/",
          "height": 320
        },
        "id": "qrKqWcssJ13j",
        "outputId": "9b30d383-b19b-48bb-f67b-c9cdf078ef6c"
      },
      "outputs": [
        {
          "data": {
            "image/png": "[encoded data removed]",
            "text/plain": [
              "<Figure size 720x360 with 1 Axes>"
            ]
          },
          "metadata": {
            "needs_background": "light"
          },
          "output_type": "display_data"
        }
      ],
      "source": [
        "plt.figure(figsize=(10,5))\n",
        "plt.hist(DataFrame['Ages'],bins=DataFrame['Ages'].max())\n",
        "plt.show()"
      ]
    },
    {
      "cell_type": "code",
      "execution_count": 7,
      "metadata": {
        "id": "tE_9AiWBLLxD"
      },
      "outputs": [],
      "source": [
        "# remove 2/3d of data aobut people under 4 years old\n",
        "under_4 = DataFrame[DataFrame['Ages'] <= 4]\n",
        "under_4_new = under_4.sample(frac = 0.3)\n",
        "\n",
        "up_4 = DataFrame[DataFrame['Ages'] >= 4]\n",
        "\n",
        "DataFrame = pd.concat([under_4_new, up_4], axis=0)"
      ]
    },
    {
      "cell_type": "code",
      "execution_count": 8,
      "metadata": {
        "colab": {
          "base_uri": "https://localhost:8080/",
          "height": 320
        },
        "id": "aeqZqazIMite",
        "outputId": "726a4e1c-6f66-47fb-e251-10474fc209d2"
      },
      "outputs": [
        {
          "data": {
            "image/png": "[encoded data removed]",
            "text/plain": [
              "<Figure size 720x360 with 1 Axes>"
            ]
          },
          "metadata": {
            "needs_background": "light"
          },
          "output_type": "display_data"
        }
      ],
      "source": [
        "plt.figure(figsize=(10,5))\n",
        "plt.hist(DataFrame['Ages'],bins=DataFrame['Ages'].max())\n",
        "plt.show()"
      ]
    },
    {
      "cell_type": "code",
      "execution_count": 9,
      "metadata": {
        "id": "ffwgvWB6Ms59"
      },
      "outputs": [],
      "source": [
        "DataFrame = DataFrame[DataFrame['Ages'] < 80 ]"
      ]
    },
    {
      "cell_type": "code",
      "execution_count": 10,
      "metadata": {
        "colab": {
          "base_uri": "https://localhost:8080/",
          "height": 320
        },
        "id": "YBnFgsZsNlGe",
        "outputId": "bfa97614-6e98-485f-ed60-71ea8d025da9"
      },
      "outputs": [
        {
          "data": {
            "image/png": "[encoded data removed]",
            "text/plain": [
              "<Figure size 720x360 with 1 Axes>"
            ]
          },
          "metadata": {
            "needs_background": "light"
          },
          "output_type": "display_data"
        }
      ],
      "source": [
        "plt.figure(figsize=(10,5))\n",
        "plt.hist(DataFrame['Ages'],bins=DataFrame['Ages'].max())\n",
        "plt.show()"
      ]
    },
    {
      "cell_type": "code",
      "execution_count": 11,
      "metadata": {
        "colab": {
          "base_uri": "https://localhost:8080/"
        },
        "id": "d_F0h5VaNsTH",
        "outputId": "75584f5d-16a7-4a36-c935-703cb6ca7971"
      },
      "outputs": [
        {
          "name": "stdout",
          "output_type": "stream",
          "text": [
            "(10888, 180, 180, 3)\n",
            "(10888,)\n"
          ]
        }
      ],
      "source": [
        "X = np.array(DataFrame['Images'].values.tolist())\n",
        "Y = np.array(DataFrame['Ages'].values.tolist())\n",
        "print(X.shape)\n",
        "print(Y.shape)"
      ]
    },
    {
      "cell_type": "code",
      "execution_count": 12,
      "metadata": {
        "colab": {
          "base_uri": "https://localhost:8080/"
        },
        "id": "egZzBJiEOIni",
        "outputId": "9bf5c2bd-4481-455e-c334-36a933304503"
      },
      "outputs": [
        {
          "name": "stdout",
          "output_type": "stream",
          "text": [
            "(8710, 180, 180, 3)\n",
            "(2178, 180, 180, 3)\n",
            "(8710,)\n",
            "(2178,)\n"
          ]
        }
      ],
      "source": [
        "X_train,X_val,Y_train, Y_val = train_test_split(X,Y, test_size = 0.2)\n",
        "print(X_train.shape)\n",
        "print(X_val.shape)\n",
        "print(Y_train.shape)\n",
        "print(Y_val.shape)"
      ]
    },
    {
      "cell_type": "code",
      "execution_count": 13,
      "metadata": {
        "id": "Iw-2GAUgPtqq"
      },
      "outputs": [],
      "source": [
        "idg = ImageDataGenerator(rescale= 1./255 ,\n",
        "                         horizontal_flip = True,\n",
        "                         )\n",
        "\n",
        "train_data = idg.flow(X_train,Y_train, batch_size = batch_size)\n",
        "val_data = idg.flow(X_val,Y_val, batch_size = batch_size)"
      ]
    },
    {
      "cell_type": "markdown",
      "metadata": {
        "id": "cwa30hn_TKve"
      },
      "source": [
        "## Modeling"
      ]
    },
    {
      "cell_type": "code",
      "execution_count": 28,
      "metadata": {
        "id": "L15avP5fTFuG"
      },
      "outputs": [],
      "source": [
        "base_model = tf.keras.applications.ResNet50V2(\n",
        "    input_shape = (width, height, 3),\n",
        "    weights = \"imagenet\",\n",
        "    include_top = False,\n",
        "    pooling = \"avg\"\n",
        ")"
      ]
    },
    {
      "cell_type": "code",
      "execution_count": 29,
      "metadata": {
        "id": "P8Gw2X63T1JU"
      },
      "outputs": [],
      "source": [
        "for layer in base_model.layers[:-4]:\n",
        "  layer.trainable = False"
      ]
    },
    {
      "cell_type": "code",
      "execution_count": 30,
      "metadata": {
        "id": "NwWhJcwxT_yH"
      },
      "outputs": [],
      "source": [
        "model = tf.keras.Sequential([\n",
        "    base_model,\n",
        "    Dropout(0.5),\n",
        "    Dense(1, activation = 'relu')                         \n",
        "])"
      ]
    },
    {
      "cell_type": "code",
      "execution_count": 31,
      "metadata": {
        "id": "rcwIBrUwUl5P"
      },
      "outputs": [],
      "source": [
        "model.compile(optimizer=Adam(learning_rate=0.01),\n",
        "loss = tf.keras.losses.mse)"
      ]
    },
    {
      "cell_type": "code",
      "execution_count": null,
      "metadata": {
        "colab": {
          "base_uri": "https://localhost:8080/"
        },
        "id": "sJ7j8QS-VIH2",
        "outputId": "4b95a691-4643-4362-874a-b0563e0d21d4"
      },
      "outputs": [],
      "source": [
        "model.fit(train_data,\n",
        "          validation_data = val_data,\n",
        "          epochs = 20,\n",
        "          shuffle = True)"
      ]
    },
    {
      "cell_type": "markdown",
      "metadata": {
        "id": "yGllD9CPW9h_"
      },
      "source": [
        "## inference"
      ]
    },
    {
      "cell_type": "code",
      "execution_count": 40,
      "metadata": {
        "colab": {
          "base_uri": "https://localhost:8080/",
          "height": 286
        },
        "id": "j1QdNQdBW8oi",
        "outputId": "7dc438ff-b191-449c-f25d-e5618cbf1126"
      },
      "outputs": [
        {
          "name": "stdout",
          "output_type": "stream",
          "text": [
            "[[54.637524]]\n"
          ]
        },
        {
          "data": {
            "image/png": "[encoded data removed]",
            "text/plain": [
              "<Figure size 432x288 with 1 Axes>"
            ]
          },
          "metadata": {
            "needs_background": "light"
          },
          "output_type": "display_data"
        }
      ],
      "source": [
        "image = cv2.imread(\"/content/5c49b07e945f0.jpg\")\n",
        "image = cv2.cvtColor(image, cv2.COLOR_BGR2RGB)\n",
        "plt.imshow(image)\n",
        "image = cv2.resize(image,(width,height))\n",
        "image = image / 255.0\n",
        "image = image[np.newaxis, ...]\n",
        "\n",
        "result = model.predict(image)\n",
        "print(result)\n",
        "plt.show()"
      ]
    },
    {
      "cell_type": "code",
      "execution_count": 46,
      "metadata": {
        "id": "ThCURKhbNhhA"
      },
      "outputs": [],
      "source": [
        "model.save(\"/content/drive/MyDrive/age_estimation_model.h5\")"
      ]
    }
  ],
  "metadata": {
    "accelerator": "GPU",
    "colab": {
      "collapsed_sections": [],
      "name": "Age prediction.ipynb",
      "provenance": []
    },
    "kernelspec": {
      "display_name": "Python 3",
      "name": "python3"
    },
    "language_info": {
      "name": "python"
    }
  },
  "nbformat": 4,
  "nbformat_minor": 0
}
