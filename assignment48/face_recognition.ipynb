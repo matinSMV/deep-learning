{
  "cells": [
    {
      "cell_type": "code",
      "execution_count": null,
      "metadata": {
        "colab": {
          "base_uri": "https://localhost:8080/"
        },
        "id": "WL2NI3KSAsCV",
        "outputId": "e768977c-c7d5-4242-d6c9-d37164b2c3d1"
      },
      "outputs": [],
      "source": [
        "!pip install wandb"
      ]
    },
    {
      "cell_type": "code",
      "execution_count": 13,
      "metadata": {
        "id": "fGwUYuTpA1Bl"
      },
      "outputs": [],
      "source": [
        "import tensorflow as tf\n",
        "from tensorflow.keras.preprocessing.image import ImageDataGenerator\n",
        "from tensorflow.keras.layers import  Conv2D,MaxPooling2D,Dropout,Flatten,Dense\n",
        "from tensorflow.keras import Model\n",
        "from tqdm import tqdm\n",
        "import wandb\n",
        "from wandb.keras import WandbCallback\n",
        "import numpy as np\n",
        "import cv2"
      ]
    },
    {
      "cell_type": "code",
      "execution_count": null,
      "metadata": {
        "colab": {
          "base_uri": "https://localhost:8080/",
          "height": 229
        },
        "id": "UCWbzqeUA80V",
        "outputId": "4410e712-30a5-4dcb-dae1-e55f6471d942"
      },
      "outputs": [],
      "source": [
        "wandb.init(project=\"face-recognition\")"
      ]
    },
    {
      "cell_type": "markdown",
      "metadata": {
        "id": "IM4iOmaQBPFU"
      },
      "source": [
        "## loading & preproccesing"
      ]
    },
    {
      "cell_type": "code",
      "execution_count": 15,
      "metadata": {
        "colab": {
          "base_uri": "https://localhost:8080/"
        },
        "id": "xnbvGyclBVnp",
        "outputId": "9176de38-b6fc-4044-cab3-9c5be77b174e"
      },
      "outputs": [
        {
          "name": "stdout",
          "output_type": "stream",
          "text": [
            "Found 1090 images belonging to 14 classes.\n",
            "Found 268 images belonging to 14 classes.\n"
          ]
        }
      ],
      "source": [
        "dataset_path = \"/content/drive/MyDrive/7-7 dataset\"\n",
        "\n",
        "width = height = 224\n",
        "\n",
        "idg = ImageDataGenerator(\n",
        "    rescale = 1./255,\n",
        "    horizontal_flip = True,\n",
        "    zoom_range = 0.1,\n",
        "    brightness_range =  (0.9, 1.1),\n",
        "    validation_split = 0.2\n",
        ")\n",
        "\n",
        "train_data = idg.flow_from_directory(\n",
        "    dataset_path,\n",
        "    target_size = (width , height),\n",
        "    class_mode = 'categorical',\n",
        "    subset = 'training'\n",
        ")\n",
        "\n",
        "val_data = idg.flow_from_directory(\n",
        "    dataset_path,\n",
        "    target_size = (width , height),\n",
        "    class_mode = 'categorical',\n",
        "    subset = 'validation'\n",
        ")"
      ]
    },
    {
      "cell_type": "markdown",
      "metadata": {
        "id": "mowJpTNQByrw"
      },
      "source": [
        "## modeling"
      ]
    },
    {
      "cell_type": "code",
      "execution_count": 16,
      "metadata": {
        "id": "8QpbLtCEB1pI"
      },
      "outputs": [],
      "source": [
        "batch_size = 32\n",
        "epochs = 10"
      ]
    },
    {
      "cell_type": "code",
      "execution_count": 17,
      "metadata": {
        "id": "hw2CKxctB4TA"
      },
      "outputs": [],
      "source": [
        "class FaceNet(Model):\n",
        "  def __init__(self):\n",
        "    super().__init__()\n",
        "\n",
        "    self.Conv2D_1 = Conv2D(32, (3,3), activation = 'relu',input_shape=(width, height, 3))\n",
        "    self.Conv2D_2 = Conv2D(64, (3,3), activation = 'relu')\n",
        "    self.MaxPooling = MaxPooling2D()\n",
        "    self.flatten = Flatten()\n",
        "    self.dense_1 = Dense(128, activation = 'relu')\n",
        "    self.dense_2 = Dense(14, activation='softmax')\n",
        "    self.dropout = Dropout(0.5)\n",
        "\n",
        "  def call(self, x):\n",
        "    y = self.Conv2D_1(x)\n",
        "    z = self.MaxPooling(y)\n",
        "    j = self.Conv2D_2(z)\n",
        "    k = self.MaxPooling(j)\n",
        "    m = self.flatten(k)\n",
        "    n = self.dense_1(m)\n",
        "    w = self.dropout(n)\n",
        "    out = self.dense_2(w)\n",
        "\n",
        "    return out\n"
      ]
    },
    {
      "cell_type": "code",
      "execution_count": 18,
      "metadata": {
        "id": "p1y80gPwCINR"
      },
      "outputs": [],
      "source": [
        "model = FaceNet()"
      ]
    },
    {
      "cell_type": "code",
      "execution_count": 19,
      "metadata": {
        "id": "OmsYQwgMCSKw"
      },
      "outputs": [],
      "source": [
        "config=wandb.config\n",
        "config.learning_rate=0.001"
      ]
    },
    {
      "cell_type": "code",
      "execution_count": 20,
      "metadata": {
        "id": "Vcujo-FoCU_f"
      },
      "outputs": [],
      "source": [
        "optimizer = tf.keras.optimizers.Adam(learning_rate=config.learning_rate)\n",
        "loss_function = tf.keras.losses.CategoricalCrossentropy()"
      ]
    },
    {
      "cell_type": "code",
      "execution_count": 21,
      "metadata": {
        "id": "TQRPuDTtCZO3"
      },
      "outputs": [],
      "source": [
        "train_loss = tf.keras.metrics.MeanAbsoluteError()\n",
        "test_loss = tf.keras.metrics.MeanAbsoluteError()\n",
        "train_accuracy = tf.keras.metrics.CategoricalAccuracy()\n",
        "test_accuracy = tf.keras.metrics.CategoricalAccuracy()"
      ]
    },
    {
      "cell_type": "code",
      "execution_count": 22,
      "metadata": {
        "colab": {
          "base_uri": "https://localhost:8080/"
        },
        "id": "PxLnoQ3uCbtX",
        "outputId": "a0176a9d-8a14-4246-96ea-02d8e6f75aba"
      },
      "outputs": [
        {
          "name": "stdout",
          "output_type": "stream",
          "text": [
            "Epoch:  0\n"
          ]
        },
        {
          "name": "stderr",
          "output_type": "stream",
          "text": [
            "\r  0%|          | 0/35 [00:00<?, ?it/s]WARNING:tensorflow:5 out of the last 5 calls to <function _BaseOptimizer._update_step_xla at 0x7a9f1a233d90> triggered tf.function retracing. Tracing is expensive and the excessive number of tracings could be due to (1) creating @tf.function repeatedly in a loop, (2) passing tensors with different shapes, (3) passing Python objects instead of tensors. For (1), please define your @tf.function outside of the loop. For (2), @tf.function has reduce_retracing=True option that can avoid unnecessary retracing. For (3), please refer to https://www.tensorflow.org/guide/function#controlling_retracing and https://www.tensorflow.org/api_docs/python/tf/function for  more details.\n",
            "WARNING:tensorflow:6 out of the last 6 calls to <function _BaseOptimizer._update_step_xla at 0x7a9f1a233d90> triggered tf.function retracing. Tracing is expensive and the excessive number of tracings could be due to (1) creating @tf.function repeatedly in a loop, (2) passing tensors with different shapes, (3) passing Python objects instead of tensors. For (1), please define your @tf.function outside of the loop. For (2), @tf.function has reduce_retracing=True option that can avoid unnecessary retracing. For (3), please refer to https://www.tensorflow.org/guide/function#controlling_retracing and https://www.tensorflow.org/api_docs/python/tf/function for  more details.\n",
            "100%|██████████| 35/35 [06:57<00:00, 11.93s/it]\n",
            "35it [01:56,  3.33s/it]\n"
          ]
        },
        {
          "name": "stdout",
          "output_type": "stream",
          "text": [
            "Train Accuracy:  tf.Tensor(0.16055046, shape=(), dtype=float32)\n",
            "Test Accuracy:  tf.Tensor(0.24528302, shape=(), dtype=float32)\n",
            "Train loss :  tf.Tensor(0.13139245, shape=(), dtype=float32)\n",
            "Test loss :  tf.Tensor(0.12298011, shape=(), dtype=float32)\n",
            "Epoch:  1\n"
          ]
        },
        {
          "name": "stderr",
          "output_type": "stream",
          "text": [
            "100%|██████████| 35/35 [00:25<00:00,  1.38it/s]\n",
            "35it [00:20,  1.71it/s]\n"
          ]
        },
        {
          "name": "stdout",
          "output_type": "stream",
          "text": [
            "Train Accuracy:  tf.Tensor(0.4293578, shape=(), dtype=float32)\n",
            "Test Accuracy:  tf.Tensor(0.36792454, shape=(), dtype=float32)\n",
            "Train loss :  tf.Tensor(0.10381867, shape=(), dtype=float32)\n",
            "Test loss :  tf.Tensor(0.09756249, shape=(), dtype=float32)\n",
            "Epoch:  2\n"
          ]
        },
        {
          "name": "stderr",
          "output_type": "stream",
          "text": [
            "100%|██████████| 35/35 [00:23<00:00,  1.52it/s]\n",
            "35it [00:20,  1.71it/s]\n"
          ]
        },
        {
          "name": "stdout",
          "output_type": "stream",
          "text": [
            "Train Accuracy:  tf.Tensor(0.64495414, shape=(), dtype=float32)\n",
            "Test Accuracy:  tf.Tensor(0.65660375, shape=(), dtype=float32)\n",
            "Train loss :  tf.Tensor(0.071127586, shape=(), dtype=float32)\n",
            "Test loss :  tf.Tensor(0.066784404, shape=(), dtype=float32)\n",
            "Epoch:  3\n"
          ]
        },
        {
          "name": "stderr",
          "output_type": "stream",
          "text": [
            "100%|██████████| 35/35 [00:22<00:00,  1.53it/s]\n",
            "35it [00:20,  1.72it/s]\n"
          ]
        },
        {
          "name": "stdout",
          "output_type": "stream",
          "text": [
            "Train Accuracy:  tf.Tensor(0.7743119, shape=(), dtype=float32)\n",
            "Test Accuracy:  tf.Tensor(0.69433963, shape=(), dtype=float32)\n",
            "Train loss :  tf.Tensor(0.048569765, shape=(), dtype=float32)\n",
            "Test loss :  tf.Tensor(0.05709463, shape=(), dtype=float32)\n",
            "Epoch:  4\n"
          ]
        },
        {
          "name": "stderr",
          "output_type": "stream",
          "text": [
            "100%|██████████| 35/35 [00:23<00:00,  1.51it/s]\n",
            "35it [00:20,  1.71it/s]\n"
          ]
        },
        {
          "name": "stdout",
          "output_type": "stream",
          "text": [
            "Train Accuracy:  tf.Tensor(0.846789, shape=(), dtype=float32)\n",
            "Test Accuracy:  tf.Tensor(0.71603775, shape=(), dtype=float32)\n",
            "Train loss :  tf.Tensor(0.035920244, shape=(), dtype=float32)\n",
            "Test loss :  tf.Tensor(0.048306335, shape=(), dtype=float32)\n",
            "Epoch:  5\n"
          ]
        },
        {
          "name": "stderr",
          "output_type": "stream",
          "text": [
            "100%|██████████| 35/35 [00:23<00:00,  1.52it/s]\n",
            "35it [00:22,  1.59it/s]\n"
          ]
        },
        {
          "name": "stdout",
          "output_type": "stream",
          "text": [
            "Train Accuracy:  tf.Tensor(0.9027523, shape=(), dtype=float32)\n",
            "Test Accuracy:  tf.Tensor(0.78867924, shape=(), dtype=float32)\n",
            "Train loss :  tf.Tensor(0.02523831, shape=(), dtype=float32)\n",
            "Test loss :  tf.Tensor(0.039829075, shape=(), dtype=float32)\n",
            "Epoch:  6\n"
          ]
        },
        {
          "name": "stderr",
          "output_type": "stream",
          "text": [
            "100%|██████████| 35/35 [00:22<00:00,  1.56it/s]\n",
            "35it [00:21,  1.66it/s]\n"
          ]
        },
        {
          "name": "stdout",
          "output_type": "stream",
          "text": [
            "Train Accuracy:  tf.Tensor(0.9174312, shape=(), dtype=float32)\n",
            "Test Accuracy:  tf.Tensor(0.7509434, shape=(), dtype=float32)\n",
            "Train loss :  tf.Tensor(0.020149877, shape=(), dtype=float32)\n",
            "Test loss :  tf.Tensor(0.042942595, shape=(), dtype=float32)\n",
            "Epoch:  7\n"
          ]
        },
        {
          "name": "stderr",
          "output_type": "stream",
          "text": [
            "100%|██████████| 35/35 [00:21<00:00,  1.61it/s]\n",
            "35it [00:21,  1.62it/s]\n"
          ]
        },
        {
          "name": "stdout",
          "output_type": "stream",
          "text": [
            "Train Accuracy:  tf.Tensor(0.9183486, shape=(), dtype=float32)\n",
            "Test Accuracy:  tf.Tensor(0.83113205, shape=(), dtype=float32)\n",
            "Train loss :  tf.Tensor(0.022884715, shape=(), dtype=float32)\n",
            "Test loss :  tf.Tensor(0.032370552, shape=(), dtype=float32)\n",
            "Epoch:  8\n"
          ]
        },
        {
          "name": "stderr",
          "output_type": "stream",
          "text": [
            "100%|██████████| 35/35 [00:21<00:00,  1.60it/s]\n",
            "35it [00:21,  1.63it/s]\n"
          ]
        },
        {
          "name": "stdout",
          "output_type": "stream",
          "text": [
            "Train Accuracy:  tf.Tensor(0.9550459, shape=(), dtype=float32)\n",
            "Test Accuracy:  tf.Tensor(0.76981133, shape=(), dtype=float32)\n",
            "Train loss :  tf.Tensor(0.012842991, shape=(), dtype=float32)\n",
            "Test loss :  tf.Tensor(0.038506065, shape=(), dtype=float32)\n",
            "Epoch:  9\n"
          ]
        },
        {
          "name": "stderr",
          "output_type": "stream",
          "text": [
            "100%|██████████| 35/35 [00:21<00:00,  1.62it/s]\n",
            "35it [00:21,  1.59it/s]\n"
          ]
        },
        {
          "name": "stdout",
          "output_type": "stream",
          "text": [
            "Train Accuracy:  tf.Tensor(0.96605504, shape=(), dtype=float32)\n",
            "Test Accuracy:  tf.Tensor(0.8537736, shape=(), dtype=float32)\n",
            "Train loss :  tf.Tensor(0.011018285, shape=(), dtype=float32)\n",
            "Test loss :  tf.Tensor(0.028111264, shape=(), dtype=float32)\n"
          ]
        }
      ],
      "source": [
        "for epoch in range (epochs):\n",
        "  train_accuracy.reset_states()\n",
        "  test_accuracy.reset_states()\n",
        "  train_loss.reset_states()\n",
        "  test_loss.reset_states()\n",
        "  print(\"Epoch: \", epoch)\n",
        "\n",
        "  #Training------------------------------\n",
        "  for i ,(images, labels) in enumerate(tqdm(train_data)):\n",
        "    if len(train_data) <= i:\n",
        "            break\n",
        "    with tf.GradientTape() as gTape:\n",
        "      predictions = model(images)\n",
        "      loss = loss_function(labels, predictions)\n",
        "\n",
        "      train_loss(labels, predictions)\n",
        "      train_accuracy(labels, predictions)\n",
        "\n",
        "    # derivatives calculation\n",
        "    gradiants = gTape.gradient(loss, model.trainable_variables)\n",
        "\n",
        "    #update w\n",
        "    optimizer.apply_gradients(zip(gradiants, model.trainable_variables))\n",
        "\n",
        "  #Validation---------------------------\n",
        "  for i, (images, labels) in enumerate(tqdm(val_data)):\n",
        "    if len(train_data) <= i:\n",
        "            break\n",
        "    predictions = model(images)\n",
        "    loss = loss_function(labels, predictions)\n",
        "    test_accuracy(labels, predictions)\n",
        "    test_loss(labels, predictions)\n",
        "\n",
        "  print(\"Train Accuracy: \",train_accuracy.result())\n",
        "  print(\"Test Accuracy: \",test_accuracy.result())\n",
        "  print(\"Train loss : \", train_loss.result())\n",
        "  print(\"Test loss : \", test_loss.result())\n",
        "\n",
        "  wandb.log({'epochs':  epoch ,\n",
        "              'Train_loss': np.mean(train_loss.result()),\n",
        "              'Train_accuracy': float(train_accuracy.result()),\n",
        "              'val_loss': np.mean(test_loss.result()),\n",
        "              'val_accuracy':float(test_accuracy.result())})"
      ]
    },
    {
      "cell_type": "code",
      "execution_count": 24,
      "metadata": {
        "id": "zmKzUvWGCkFi"
      },
      "outputs": [],
      "source": [
        "model.save_weights(\"FaceNet.h5\")"
      ]
    }
  ],
  "metadata": {
    "accelerator": "GPU",
    "colab": {
      "gpuType": "T4",
      "provenance": []
    },
    "kernelspec": {
      "display_name": "Python 3",
      "name": "python3"
    },
    "language_info": {
      "name": "python"
    }
  },
  "nbformat": 4,
  "nbformat_minor": 0
}
